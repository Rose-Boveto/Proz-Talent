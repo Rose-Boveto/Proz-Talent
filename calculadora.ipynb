{
  "nbformat": 4,
  "nbformat_minor": 0,
  "metadata": {
    "colab": {
      "provenance": [],
      "authorship_tag": "ABX9TyPgCw5ny/3AAHI+FnQzjoz6",
      "include_colab_link": true
    },
    "kernelspec": {
      "name": "python3",
      "display_name": "Python 3"
    },
    "language_info": {
      "name": "python"
    }
  },
  "cells": [
    {
      "cell_type": "markdown",
      "metadata": {
        "id": "view-in-github",
        "colab_type": "text"
      },
      "source": [
        "<a href=\"https://colab.research.google.com/github/Rose-Boveto/Proz-Talent/blob/main/calculadora.ipynb\" target=\"_parent\"><img src=\"https://colab.research.google.com/assets/colab-badge.svg\" alt=\"Open In Colab\"/></a>"
      ]
    },
    {
      "cell_type": "code",
      "execution_count": null,
      "metadata": {
        "id": "F_Nh9A9CxO_6"
      },
      "outputs": [],
      "source": [
        "def soma(primeiro, segundo):\n",
        "    return primeiro + segundo\n",
        "\n",
        "def subtracao(primeiro,segundo):\n",
        "    return primeiro - segundo\n",
        "\n",
        "\n",
        "def multiplicacao(primeiro,segundo):\n",
        "    return primeiro * segundo\n",
        "\n",
        "def divisao(primeiro,segundo):\n",
        "    if segundo ==0:\n",
        "        return \"Erro! Divisão por zero\"\n",
        "    else:\n",
        "        return primeiro / segundo\n",
        "\n",
        "\n",
        "def main():\n",
        "    print('''\n",
        "    Selecione uma opção:\n",
        "    1. Adição\n",
        "    2.Subtração\n",
        "    3.Multiplicação\n",
        "    4.Divisão\n",
        "    ''')\n",
        "    while True:\n",
        "        escolha= input(\"Digite uma opção:\")\n",
        "        if escolha in ['1','2','3','4']:\n",
        "            try:\n",
        "                num1 = float(input(\"Me diga o primeiro numero:\"))\n",
        "                num2 = float(input(\"Me diga o segundo numero:\"))\n",
        "            except ValueError:\n",
        "                print(\"Por favor informe um numero válido\")\n",
        "                continue\n",
        "            if escolha == '1':\n",
        "                print(f\"{num1} + {num2} é igual a {soma(num1,num2)}\")\n",
        "            elif escolha == '2':\n",
        "                print(f\"{num1} - {num2} é igual a {subtracao(num1,num2)}\")\n",
        "            elif escolha == '3':\n",
        "                print(f\"{num1} x {num2} é igual a {multiplicacao(num1,num2)}\")\n",
        "            elif escolha == '4':\n",
        "                resultado = divisao(num1,num2)\n",
        "                print(f\"{num1} / {num2} é igual a {resultado}\")\n",
        "        else:\n",
        "            print(\"Opção invalida, tente novamente\")\n",
        "        proximo_calcula = input(\"Deseja realizar uma nova operação ? [S/N]:\")\n",
        "        if proximo_calcula.lower() != 's':\n",
        "            break\n",
        "\n",
        "if __name__== \"__main__\":\n",
        "    main()\n",
        "tem menu de contexto\n",
        "\n",
        "\n",
        "tem menu de contexto"
      ]
    }
  ]
}