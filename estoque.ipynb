{
  "cells": [
    {
      "cell_type": "markdown",
      "metadata": {
        "id": "view-in-github",
        "colab_type": "text"
      },
      "source": [
        "<a href=\"https://colab.research.google.com/github/Rose-Boveto/Proz-Talent/blob/main/estoque.ipynb\" target=\"_parent\"><img src=\"https://colab.research.google.com/assets/colab-badge.svg\" alt=\"Open In Colab\"/></a>"
      ]
    },
    {
      "cell_type": "code",
      "execution_count": null,
      "metadata": {
        "colab": {
          "background_save": true,
          "base_uri": "https://localhost:8080/"
        },
        "id": "QjgdtmCuh40q",
        "outputId": "73475d11-50a3-4b02-a913-813c350126d3"
      },
      "outputs": [
        {
          "name": "stdout",
          "output_type": "stream",
          "text": [
            "O que deseja faser? Digite o numero\n",
            "1 - ver os produtos em Estoque\n",
            "2 - Alterar um produto\n",
            "3 - Adicionar um produto\n",
            "4 - Sair\n",
            "Qual é o indice do produto que você deseja alterar\n",
            "Qual é o novo nome do produto\n",
            "ProdutoFeijãoadicionado com sucesso\n",
            "O que deseja faser? Digite o numero\n",
            "1 - ver os produtos em Estoque\n",
            "2 - Alterar um produto\n",
            "3 - Adicionar um produto\n",
            "4 - Sair\n",
            "Por favor informe um código válido\n",
            "O que deseja faser? Digite o numero\n",
            "1 - ver os produtos em Estoque\n",
            "2 - Alterar um produto\n",
            "3 - Adicionar um produto\n",
            "4 - Sair\n"
          ]
        }
      ],
      "source": [
        "def manipular_estoque(arr):\n",
        "  fechar = False\n",
        "\n",
        "  while (fechar == False):\n",
        "    print(\"O que deseja faser? Digite o numero\")\n",
        "    print(\"1 - ver os produtos em Estoque\")\n",
        "    print(\"2 - Alterar um produto\")\n",
        "    print(\"3 - Adicionar um produto\")\n",
        "    print(\"4 - Sair\")\n",
        "    acao = input()\n",
        "\n",
        "    if (acao == 1):\n",
        "      print(\"Produtos em Estoque\")\n",
        "      for i in range(len(arr)):\n",
        "        print(str(str(i) + \" - \" + arr(i)))\n",
        "\n",
        "    elif (acao == \"2\"):\n",
        "      print(\"Qual é o indice do produto que você deseja alterar\")\n",
        "      indice = int(input())\n",
        "      print(\"Qual é o novo nome do produto\")\n",
        "      novo_produto = input()\n",
        "      arr[indice] = novo_produto\n",
        "      print(\"Produto\" + novo_produto + \"adicionado com sucesso\")\n",
        "\n",
        "    elif (acao == \"3\"):\n",
        "      print(\"Qual produto deseja adcionar\")\n",
        "      novo_produto = input()\n",
        "      arr.append(novo_produto)\n",
        "      print(\"Produto\" + novo_produto + \"adicionado com sucesso\")\n",
        "\n",
        "    elif (acao == \"4\"):\n",
        "      print(\"Fechando o sistema ...\")\n",
        "      fechar = True\n",
        "\n",
        "    else:\n",
        "      print(\"Por favor informe um código válido\")\n",
        "\n",
        "produtos = [\"leite\", \"pão\", \"manteiga\", \"queijo\"]\n",
        "manipular_estoque(produtos)"
      ]
    }
  ],
  "metadata": {
    "colab": {
      "provenance": [],
      "authorship_tag": "ABX9TyPWPhO1LGDUJz/HjjQByp3z",
      "include_colab_link": true
    },
    "kernelspec": {
      "display_name": "Python 3",
      "name": "python3"
    },
    "language_info": {
      "name": "python"
    }
  },
  "nbformat": 4,
  "nbformat_minor": 0
}