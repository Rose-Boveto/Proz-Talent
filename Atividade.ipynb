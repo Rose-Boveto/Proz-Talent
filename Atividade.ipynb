{
  "nbformat": 4,
  "nbformat_minor": 0,
  "metadata": {
    "colab": {
      "provenance": [],
      "authorship_tag": "ABX9TyPs7h2Dakw0SPNe8NP5KCTA",
      "include_colab_link": true
    },
    "kernelspec": {
      "name": "python3",
      "display_name": "Python 3"
    },
    "language_info": {
      "name": "python"
    }
  },
  "cells": [
    {
      "cell_type": "markdown",
      "metadata": {
        "id": "view-in-github",
        "colab_type": "text"
      },
      "source": [
        "<a href=\"https://colab.research.google.com/github/Rose-Boveto/Proz-Talent/blob/main/Atividade.ipynb\" target=\"_parent\"><img src=\"https://colab.research.google.com/assets/colab-badge.svg\" alt=\"Open In Colab\"/></a>"
      ]
    },
    {
      "cell_type": "markdown",
      "source": [
        "Faça uma função calculadora de dois números com três parâmetros: os dois primeiros serão os números da operação e o terceiro será a entrada que definirá a operação a ser executada. Considera a seguinte definição:\n",
        "1. Soma\n",
        "2. Subtração\n",
        "3. Multiplicação\n",
        "4. Divisão\n",
        "\n",
        "Caso seja inserido um número de operação que não exista, o resultado deverá ser 0.\n",
        "\n",
        "\n"
      ],
      "metadata": {
        "id": "vXCjFqPE8zFX"
      }
    },
    {
      "cell_type": "code",
      "execution_count": 36,
      "metadata": {
        "colab": {
          "base_uri": "https://localhost:8080/"
        },
        "id": "9LLAjtwx8yWt",
        "outputId": "453366ee-18b3-458b-d5be-3feaa913c842"
      },
      "outputs": [
        {
          "output_type": "stream",
          "name": "stdout",
          "text": [
            "1 - Soma\n",
            "2 - Subtração\n",
            "3 - Multiplicação\n",
            "4 - Divisão\n",
            "Digite uma opção: 4\n",
            "Digite o primeiro número: 16\n",
            "Digite o segundo número: 4\n",
            "4.0\n"
          ]
        }
      ],
      "source": [
        "def menu ():\n",
        "  print(\"1 - Soma\")\n",
        "  print(\"2 - Subtração\")\n",
        "  print(\"3 - Multiplicação\")\n",
        "  print(\"4 - Divisão\")\n",
        "\n",
        "  while(True):\n",
        "    opcao = int(input(\"Digite uma opção: \"))\n",
        "    if opcao in range(6):\n",
        "      return opcao\n",
        "      break\n",
        "opcao = menu()\n",
        "num1 = int(input(\"Digite o primeiro número: \"))\n",
        "num2 = int(input(\"Digite o segundo número: \"))\n",
        "\n",
        "def calculadora(num1, num2, opcao):\n",
        "  if opcao == 1:\n",
        "    return num1 + num2\n",
        "  elif opcao == 2:\n",
        "    return num1 - num2\n",
        "  elif opcao == 3:\n",
        "    return num1 * num2\n",
        "  elif opcao == 4:\n",
        "    return num1 / num2\n",
        "  else:\n",
        "    return 0\n",
        "print(calculadora(num1, num2, opcao))\n",
        ""
      ]
    }
  ]
}