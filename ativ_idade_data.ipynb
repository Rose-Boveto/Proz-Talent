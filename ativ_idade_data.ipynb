{
  "nbformat": 4,
  "nbformat_minor": 0,
  "metadata": {
    "colab": {
      "provenance": [],
      "authorship_tag": "ABX9TyMnV3Oag80x0JeNilc6u+JV",
      "include_colab_link": true
    },
    "kernelspec": {
      "name": "python3",
      "display_name": "Python 3"
    },
    "language_info": {
      "name": "python"
    }
  },
  "cells": [
    {
      "cell_type": "markdown",
      "metadata": {
        "id": "view-in-github",
        "colab_type": "text"
      },
      "source": [
        "<a href=\"https://colab.research.google.com/github/Rose-Boveto/Proz-Talent/blob/main/ativ_idade_data.ipynb\" target=\"_parent\"><img src=\"https://colab.research.google.com/assets/colab-badge.svg\" alt=\"Open In Colab\"/></a>"
      ]
    },
    {
      "cell_type": "markdown",
      "source": [
        "Desenvolva um programa que recebe do usuário nome completo e ano de nascimento que seja entre 1922 e 2021.\n",
        "A partir dessas informações, o sistema mostrará o nome do usuário e a idade que completou, ou completará, no ano atual (2022).\n",
        "\n",
        "Caso o usuário não digite um número ou apareça um inválido no campo do ano, o sistema informará o erro e continuará perguntando até que um valor correto seja preenchido.\n",
        "\n",
        "Trabalhe esse código em seu IDE, suba ele para sua conta no GitHub e compartilhe o link desse projeto no campo ao lado para que outros desenvolvedores possam analisá-lo.\n",
        "\n"
      ],
      "metadata": {
        "id": "wpibudfyYR1o"
      }
    },
    {
      "cell_type": "code",
      "execution_count": 68,
      "metadata": {
        "id": "8hajSURHYO21",
        "colab": {
          "base_uri": "https://localhost:8080/"
        },
        "outputId": "5aac47ff-cff7-42c0-cbb5-7f56b3937b86"
      },
      "outputs": [
        {
          "output_type": "stream",
          "name": "stdout",
          "text": [
            "Informe os dados\n",
            "Informe seu nome: ro\n",
            "Informe seu ano de nascimento: 1920\n",
            "Erro\n",
            "Informe os dados\n",
            "Informe seu nome: ro\n",
            "Informe seu ano de nascimento: 2022\n",
            "Erro\n",
            "Informe os dados\n",
            "Informe seu nome: rose\n",
            "Informe seu ano de nascimento: 1984\n",
            "idade 38\n"
          ]
        }
      ],
      "source": [
        "ano = int(2022)\n",
        "def menu():\n",
        "    print(\"Informe os dados\")\n",
        "    nome = (input(\"Informe seu nome: \"))\n",
        "    data = int(input(\"Informe seu ano de nascimento: \"))\n",
        "    return nome, data\n",
        "\n",
        "while (True):\n",
        "    nome, data = menu()\n",
        "    if data < 1922:\n",
        "      print(\"Erro\")\n",
        "    elif data > 2021:\n",
        "      print(\"Erro\")\n",
        "    else:\n",
        "      resultado = ano  - data\n",
        "      print(\"idade\",  str(resultado))\n",
        "      break\n",
        "\n",
        "\n",
        "\n"
      ]
    }
  ]
}