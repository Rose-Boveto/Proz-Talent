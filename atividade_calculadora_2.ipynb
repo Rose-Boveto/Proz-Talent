{
  "nbformat": 4,
  "nbformat_minor": 0,
  "metadata": {
    "colab": {
      "provenance": [],
      "authorship_tag": "ABX9TyM4lNIvqtMkW4DCed7MTdFU",
      "include_colab_link": true
    },
    "kernelspec": {
      "name": "python3",
      "display_name": "Python 3"
    },
    "language_info": {
      "name": "python"
    }
  },
  "cells": [
    {
      "cell_type": "markdown",
      "metadata": {
        "id": "view-in-github",
        "colab_type": "text"
      },
      "source": [
        "<a href=\"https://colab.research.google.com/github/Rose-Boveto/Proz-Talent/blob/main/atividade_calculadora_2.ipynb\" target=\"_parent\"><img src=\"https://colab.research.google.com/assets/colab-badge.svg\" alt=\"Open In Colab\"/></a>"
      ]
    },
    {
      "cell_type": "markdown",
      "source": [
        "Faça uma função calculadora que os números e as operações serão feitas pelo usuário. O código deve ficar rodando infinitamente até que o usuário escolha a opção de sair. No início, o programa mostrará a seguinte lista de operações:\n",
        "\n",
        "1: Soma\n",
        "2: Subtração\n",
        "3: Multiplicação\n",
        "4: Divisão\n",
        "0: Sair\n",
        "\n",
        "Digite o número para a operação correspondente e caso o usuário introduza qualquer outro, o sistema deve mostrar a mensagem “Essa opção não existe” e voltar ao menu de opções.\n",
        "\n",
        "Após a seleção, o sistema deve pedir para o usuário inserir o primeiro e segundo valor, um de cada. Depois precisa executar a operação e mostrar o resultado na tela. Quando o usuário escolher a opção “Sair”, o sistema irá parar.\n",
        "\n",
        "É necessário que o sistema mostre as opções sempre que finalizar uma operação e mostrar o resultado.\n",
        "\n",
        "Trabalhe esse código em seu IDE, suba ele para sua conta no GitHub e compartilhe o link desse projeto no campo ao lado para que outros desenvolvedores possam analisá-lo.\n",
        "\n"
      ],
      "metadata": {
        "id": "vXCjFqPE8zFX"
      }
    },
    {
      "cell_type": "code",
      "execution_count": 36,
      "metadata": {
        "colab": {
          "base_uri": "https://localhost:8080/"
        },
        "id": "9LLAjtwx8yWt",
        "outputId": "a789251e-f3d6-40f6-c86a-cfb9612d6b8c"
      },
      "outputs": [
        {
          "output_type": "stream",
          "name": "stdout",
          "text": [
            "Calculadora\n",
            "1 - Soma\n",
            "2 - Subtração\n",
            "3 - Multiplicação\n",
            "4 - Divisão\n",
            "0 - Sair\n",
            "Escolha uma opção: 4\n",
            "Digite o primeiro número: 10\n",
            "Digite o segundo número: 5\n",
            "2.0\n",
            "Calculadora\n",
            "1 - Soma\n",
            "2 - Subtração\n",
            "3 - Multiplicação\n",
            "4 - Divisão\n",
            "0 - Sair\n",
            "Escolha uma opção: 0\n",
            "Fechando...\n"
          ]
        }
      ],
      "source": [
        "def menu ():\n",
        "  print(\"Calculadora\")\n",
        "  print(\"1 - Soma\")\n",
        "  print(\"2 - Subtração\")\n",
        "  print(\"3 - Multiplicação\")\n",
        "  print(\"4 - Divisão\")\n",
        "  print(\"0 - Sair\")\n",
        "\n",
        "  return int(input(\"Escolha uma opção: \"))\n",
        "\n",
        "while(True):\n",
        "  opcao = menu()\n",
        "  if opcao >=1:\n",
        "    num1 = int(input(\"Digite o primeiro número: \"))\n",
        "    num2 = int(input(\"Digite o segundo número: \"))\n",
        "    print(calculadora(num1, num2, opcao))\n",
        "  else:\n",
        "    print(\"Fechando...\")\n",
        "    break\n",
        "\n",
        "\n",
        "\n",
        "def calculadora(num1, num2, opcao):\n",
        "  if opcao == 1:\n",
        "    return num1 + num2\n",
        "  elif opcao == 2:\n",
        "    return num1 - num2\n",
        "  elif opcao == 3:\n",
        "    return num1 * num2\n",
        "  elif opcao == 4:\n",
        "    return num1 / num2\n",
        "  else:\n",
        "    return 0\n",
        "\n",
        "\n"
      ]
    }
  ]
}