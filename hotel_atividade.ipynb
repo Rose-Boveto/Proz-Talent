{
  "nbformat": 4,
  "nbformat_minor": 0,
  "metadata": {
    "colab": {
      "provenance": [],
      "history_visible": true,
      "authorship_tag": "ABX9TyNkzuLEVy5u6K4KnmsFCwLv",
      "include_colab_link": true
    },
    "kernelspec": {
      "name": "python3",
      "display_name": "Python 3"
    },
    "language_info": {
      "name": "python"
    }
  },
  "cells": [
    {
      "cell_type": "markdown",
      "metadata": {
        "id": "view-in-github",
        "colab_type": "text"
      },
      "source": [
        "<a href=\"https://colab.research.google.com/github/Rose-Boveto/Proz-Talent/blob/main/hotel_atividade.ipynb\" target=\"_parent\"><img src=\"https://colab.research.google.com/assets/colab-badge.svg\" alt=\"Open In Colab\"/></a>"
      ]
    },
    {
      "cell_type": "code",
      "execution_count": 17,
      "metadata": {
        "colab": {
          "base_uri": "https://localhost:8080/"
        },
        "id": "C5yJbvW8antM",
        "outputId": "2e57b79c-6030-4b08-a33c-5e8978e69665"
      },
      "outputs": [
        {
          "output_type": "stream",
          "name": "stdout",
          "text": [
            "1 for\n",
            "2 for\n",
            "3 for\n",
            "4 for\n",
            "5 for\n",
            "6 for\n",
            "7 for\n",
            "8 for\n",
            "9 for\n",
            "10 for\n",
            "11 for\n",
            "12 for\n",
            "14 for\n",
            "15 for\n",
            "16 for\n",
            "17 for\n",
            "18 for\n",
            "19 for\n",
            "20 for\n",
            "1 while\n",
            "2 while\n",
            "3 while\n",
            "4 while\n",
            "5 while\n",
            "6 while\n",
            "7 while\n",
            "8 while\n",
            "9 while\n",
            "10 while\n",
            "11 while\n",
            "12 while\n",
            "14 while\n",
            "15 while\n",
            "16 while\n",
            "17 while\n",
            "18 while\n",
            "19 while\n",
            "20 while\n",
            "20 decrescente\n",
            "19 decrescente\n",
            "18 decrescente\n",
            "17 decrescente\n",
            "16 decrescente\n",
            "15 decrescente\n",
            "14 decrescente\n",
            "12 decrescente\n",
            "11 decrescente\n",
            "10 decrescente\n",
            "9 decrescente\n",
            "8 decrescente\n",
            "7 decrescente\n",
            "6 decrescente\n",
            "5 decrescente\n",
            "4 decrescente\n",
            "3 decrescente\n",
            "2 decrescente\n",
            "1 decrescente\n"
          ]
        }
      ],
      "source": [
        "#Imprimir todos menos o andar 13\n",
        "for i in range(1, 21):\n",
        "   if(i == 13):\n",
        "      continue\n",
        "   else:\n",
        "    print(i,\"for\")\n",
        "#imprimir todos menos o 13 laço While\n",
        "i = 1\n",
        "while i < 21:\n",
        "   if(i == 13):\n",
        "      i = i + 1\n",
        "      continue\n",
        "   else:\n",
        "    print(i, \"while\")\n",
        "    i = i + 1\n",
        "# ordem decrescente\n",
        "for i in range(20, 0, -1):\n",
        "   if(i == 13):\n",
        "      continue\n",
        "   else:\n",
        "    print(i, \"decrescente\")\n"
      ]
    }
  ]
}